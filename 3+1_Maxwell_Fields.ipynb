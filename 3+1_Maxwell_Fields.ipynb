{
 "cells": [
  {
   "cell_type": "code",
   "execution_count": 1,
   "metadata": {},
   "outputs": [
    {
     "name": "stdout",
     "output_type": "stream",
     "text": [
      "Reduce (Free CSL version, revision 4534), 05-Apr-18 ...\n"
     ]
    }
   ],
   "source": [
    "using Grassmann\n",
    "using ApproxFun\n",
    "using LinearAlgebra\n",
    "using Reduce\n",
    "using Plots"
   ]
  },
  {
   "cell_type": "code",
   "execution_count": 2,
   "metadata": {},
   "outputs": [
    {
     "data": {
      "text/plain": [
       "(⟨+---⟩, v, v₁, v₂, v₃, v₄, v₁₂, v₁₃, v₁₄, v₂₃, v₂₄, v₃₄, v₁₂₃, v₁₂₄, v₁₃₄, v₂₃₄, v₁₂₃₄)"
      ]
     },
     "execution_count": 2,
     "metadata": {},
     "output_type": "execute_result"
    }
   ],
   "source": [
    "basis\"+---\""
   ]
  },
  {
   "cell_type": "code",
   "execution_count": 3,
   "metadata": {},
   "outputs": [
    {
     "data": {
      "text/plain": [
       "0..1"
      ]
     },
     "execution_count": 3,
     "metadata": {},
     "output_type": "execute_result"
    }
   ],
   "source": [
    "dx=(0..1)"
   ]
  },
  {
   "cell_type": "code",
   "execution_count": 4,
   "metadata": {},
   "outputs": [
    {
     "data": {
      "text/plain": [
       "0..10"
      ]
     },
     "execution_count": 4,
     "metadata": {},
     "output_type": "execute_result"
    }
   ],
   "source": [
    "dt=(0..10)"
   ]
  },
  {
   "cell_type": "code",
   "execution_count": 5,
   "metadata": {},
   "outputs": [
    {
     "data": {
      "text/plain": [
       "0..1 x 0..10"
      ]
     },
     "execution_count": 5,
     "metadata": {},
     "output_type": "execute_result"
    }
   ],
   "source": [
    "domain=dx×dt"
   ]
  },
  {
   "cell_type": "code",
   "execution_count": 6,
   "metadata": {},
   "outputs": [
    {
     "data": {
      "text/plain": [
       "DerivativeWrapper : Chebyshev(0..1)⊗Chebyshev(0..10) → Ultraspherical(1,0..1)⊗Chebyshev(0..10)\n",
       " 0.0  0.0  2.0  0.0  0.0  0.0  0.0  0.0  0.0  0.0  ⋯\n",
       " 0.0  0.0  0.0  0.0  2.0  0.0  0.0  0.0  0.0  0.0  ⋱\n",
       " 0.0  0.0  0.0  0.0  0.0  4.0  0.0  0.0  0.0  0.0  ⋱\n",
       " 0.0  0.0  0.0  0.0  0.0  0.0  0.0  2.0  0.0  0.0  ⋱\n",
       " 0.0  0.0  0.0  0.0  0.0  0.0  0.0  0.0  4.0  0.0  ⋱\n",
       " 0.0  0.0  0.0  0.0  0.0  0.0  0.0  0.0  0.0  6.0  ⋱\n",
       " 0.0  0.0  0.0  0.0  0.0  0.0  0.0  0.0  0.0  0.0  ⋱\n",
       " 0.0  0.0  0.0  0.0  0.0  0.0  0.0  0.0  0.0  0.0  ⋱\n",
       " 0.0  0.0  0.0  0.0  0.0  0.0  0.0  0.0  0.0  0.0  ⋱\n",
       " 0.0  0.0  0.0  0.0  0.0  0.0  0.0  0.0  0.0  0.0  ⋱\n",
       "  ⋮    ⋱    ⋱    ⋱    ⋱    ⋱    ⋱    ⋱    ⋱    ⋱   ⋱"
      ]
     },
     "execution_count": 6,
     "metadata": {},
     "output_type": "execute_result"
    }
   ],
   "source": [
    "∂x=Derivative(domain,[1,0])"
   ]
  },
  {
   "cell_type": "code",
   "execution_count": 7,
   "metadata": {},
   "outputs": [
    {
     "data": {
      "text/plain": [
       "DerivativeWrapper : Chebyshev(0..1)⊗Chebyshev(0..10) → Chebyshev(0..1)⊗Ultraspherical(1,0..10)\n",
       " 0.0  0.2  0.0  0.0  0.0  0.0  0.0                 0.0  0.0  0.0  ⋯\n",
       " 0.0  0.0  0.0  0.4  0.0  0.0  0.0                 0.0  0.0  0.0  ⋱\n",
       " 0.0  0.0  0.0  0.0  0.2  0.0  0.0                 0.0  0.0  0.0  ⋱\n",
       " 0.0  0.0  0.0  0.0  0.0  0.0  0.6000000000000001  0.0  0.0  0.0  ⋱\n",
       " 0.0  0.0  0.0  0.0  0.0  0.0  0.0                 0.4  0.0  0.0  ⋱\n",
       " 0.0  0.0  0.0  0.0  0.0  0.0  0.0                 0.0  0.2  0.0  ⋱\n",
       " 0.0  0.0  0.0  0.0  0.0  0.0  0.0                 0.0  0.0  0.0  ⋱\n",
       " 0.0  0.0  0.0  0.0  0.0  0.0  0.0                 0.0  0.0  0.0  ⋱\n",
       " 0.0  0.0  0.0  0.0  0.0  0.0  0.0                 0.0  0.0  0.0  ⋱\n",
       " 0.0  0.0  0.0  0.0  0.0  0.0  0.0                 0.0  0.0  0.0  ⋱\n",
       "  ⋮    ⋱    ⋱    ⋱    ⋱    ⋱    ⋱                   ⋱    ⋱    ⋱   ⋱"
      ]
     },
     "execution_count": 7,
     "metadata": {},
     "output_type": "execute_result"
    }
   ],
   "source": [
    "∂t=Derivative(domain,[0,1])"
   ]
  },
  {
   "cell_type": "code",
   "execution_count": 8,
   "metadata": {},
   "outputs": [
    {
     "data": {
      "text/plain": [
       "InterlaceOperator : 6-element ArraySpace:\n",
       "TensorSpace{Tuple{Chebyshev{Interval{:closed,:closed,Int64},Float64},Chebyshev{Interval{:closed,:closed,Int64},Float64}},DomainSets.ProductDomain{Tuple{Interval{:closed,:closed,Int64},Interval{:closed,:closed,Int64}},Tuple{Int64,Int64},StaticArrays.SArray{Tuple{2},Int64,1,2}},Float64}[Chebyshev(0..1)⊗Chebyshev(0..10), Chebyshev(0..1)⊗Chebyshev(0..10), Chebyshev(0..1)⊗Chebyshev(0..10), Chebyshev(0..1)⊗Chebyshev(0..10), Chebyshev(0..1)⊗Chebyshev(0..10), Chebyshev(0..1)⊗Chebyshev(0..10)] → 8-element ArraySpace:\n",
       "TensorSpace{SV,DomainSets.ProductDomain{Tuple{Interval{:closed,:closed,Int64},Interval{:closed,:closed,Int64}},Tuple{Int64,Int64},StaticArrays.SArray{Tuple{2},Int64,1,2}},Float64} where SV[Ultraspherical(1,0..1)⊗Chebyshev(0..10), Chebyshev(0..1)⊗Ultraspherical(1,0..10), Ultraspherical(1,0..1)⊗Ultraspherical(1,0..10), Ultraspherical(1,0..1)⊗Ultraspherical(1,0..10), Chebyshev(0..1)⊗Ultraspherical(1,0..10), Ultraspherical(1,0..1)⊗Ultraspherical(1,0..10), Ultraspherical(1,0..1)⊗Ultraspherical(1,0..10), Ultraspherical(1,0..1)⊗Chebyshev(0..10)]\n",
       " 0.0  0.0  0.0  0.0  0.0  0.0  0.0  2.0  0.0  0.0  ⋯\n",
       " 0.0  0.0  0.0  0.0  0.0  0.0  0.2  0.0  0.0  0.0  ⋱\n",
       " 0.0  0.0  0.0  0.0  0.0  0.0  0.0  0.0  0.2  0.0  ⋱\n",
       " 0.0  0.0  0.0  0.0  0.0  0.0  0.0  0.0  0.0  0.0  ⋱\n",
       " 0.0  0.0  0.0  0.0  0.0  0.0  0.0  0.0  0.0  0.0  ⋱\n",
       " 0.0  0.0  0.0  0.0  0.0  0.0  0.0  0.0  0.0  0.0  ⋱\n",
       " 0.0  0.0  0.0  0.0  0.0  0.0  0.0  0.0  0.0  2.0  ⋱\n",
       " 0.0  0.0  0.0  0.0  0.0  0.0  0.0  0.0  0.0  0.0  ⋱\n",
       " 0.0  0.0  0.0  0.0  0.0  0.0  0.0  0.0  0.0  0.0  ⋱\n",
       " 0.0  0.0  0.0  0.0  0.0  0.0  0.0  0.0  0.0  0.0  ⋱\n",
       "  ⋮    ⋱    ⋱    ⋱    ⋱    ⋱    ⋱    ⋱    ⋱    ⋱   ⋱"
      ]
     },
     "execution_count": 8,
     "metadata": {},
     "output_type": "execute_result"
    }
   ],
   "source": [
    "v0∇=[∂x 0  0   0  0   0;\n",
    "     ∂t 0  0   0  0   0;\n",
    "     0  ∂t 0   0  0   ∂x;\n",
    "     0  0  ∂t  0  -∂x 0;\n",
    "     0  0  0   ∂t 0   0;\n",
    "     0  0  -∂x 0  ∂t  0;\n",
    "     0  ∂x 0   0  0   ∂t;\n",
    "     0  0  0   ∂x 0   0]"
   ]
  },
  {
   "cell_type": "code",
   "execution_count": 9,
   "metadata": {},
   "outputs": [
    {
     "data": {
      "text/plain": [
       "InterlaceOperator : Chebyshev(0..1)⊗ApproxFunBase.UnsetSpace() → 3-element ArraySpace:\n",
       "TensorSpace{SV,D,Union{}} where D where SV[ConstantSpace(Point(0))⊗UnsetSpace(), ConstantSpace(Point(1))⊗UnsetSpace(), Chebyshev(0..1)⊗UnsetSpace()]\n"
      ]
     },
     "execution_count": 9,
     "metadata": {},
     "output_type": "execute_result"
    }
   ],
   "source": [
    "Bdy_op_E1=[ldirichlet(dx)⊗I;rdirichlet(dx)⊗I;0*I]"
   ]
  },
  {
   "cell_type": "code",
   "execution_count": 10,
   "metadata": {},
   "outputs": [
    {
     "data": {
      "text/plain": [
       "InterlaceOperator : Chebyshev(0..1)⊗Chebyshev(0..10) → 3-element ArraySpace:\n",
       "TensorSpace{SV,D,Float64} where D where SV[ConstantSpace(Point(0))⊗Chebyshev(0..10), ConstantSpace(Point(1))⊗Chebyshev(0..10), Chebyshev(0..1)⊗ConstantSpace(Point(0))]\n",
       " 1.0   0.0  -1.0  0.0   0.0  1.0   0.0   0.0   0.0  -1.0  ⋯\n",
       " 1.0   0.0   1.0  0.0   0.0  1.0   0.0   0.0   0.0   1.0  ⋱\n",
       " 1.0  -1.0   0.0  1.0   0.0  0.0  -1.0   0.0   0.0   0.0  ⋱\n",
       " 0.0   1.0   0.0  0.0  -1.0  0.0   0.0   0.0   1.0   0.0  ⋱\n",
       " 0.0   1.0   0.0  0.0   1.0  0.0   0.0   0.0   1.0   0.0  ⋱\n",
       " 0.0   0.0   1.0  0.0  -1.0  0.0   0.0   1.0   0.0   0.0  ⋱\n",
       " 0.0   0.0   0.0  1.0   0.0  0.0   0.0  -1.0   0.0   0.0  ⋱\n",
       " 0.0   0.0   0.0  1.0   0.0  0.0   0.0   1.0   0.0   0.0  ⋱\n",
       " 0.0   0.0   0.0  0.0   0.0  1.0   0.0   0.0  -1.0   0.0  ⋱\n",
       " 0.0   0.0   0.0  0.0   0.0  0.0   1.0   0.0   0.0   0.0  ⋱\n",
       "  ⋮     ⋱     ⋱    ⋱     ⋱    ⋱     ⋱     ⋱     ⋱     ⋱   ⋱"
      ]
     },
     "execution_count": 10,
     "metadata": {},
     "output_type": "execute_result"
    }
   ],
   "source": [
    "Bdy_op_E2=[ldirichlet(dx)⊗I;rdirichlet(dx)⊗I;I⊗ldirichlet(dt)]"
   ]
  },
  {
   "cell_type": "code",
   "execution_count": 11,
   "metadata": {},
   "outputs": [
    {
     "data": {
      "text/plain": [
       "InterlaceOperator : Chebyshev(0..1)⊗Chebyshev(0..10) → 3-element ArraySpace:\n",
       "TensorSpace{SV,D,Float64} where D where SV[ConstantSpace(Point(0))⊗Chebyshev(0..10), ConstantSpace(Point(1))⊗Chebyshev(0..10), Chebyshev(0..1)⊗ConstantSpace(Point(0))]\n",
       " 1.0   0.0  -1.0  0.0   0.0  1.0   0.0   0.0   0.0  -1.0  ⋯\n",
       " 1.0   0.0   1.0  0.0   0.0  1.0   0.0   0.0   0.0   1.0  ⋱\n",
       " 1.0  -1.0   0.0  1.0   0.0  0.0  -1.0   0.0   0.0   0.0  ⋱\n",
       " 0.0   1.0   0.0  0.0  -1.0  0.0   0.0   0.0   1.0   0.0  ⋱\n",
       " 0.0   1.0   0.0  0.0   1.0  0.0   0.0   0.0   1.0   0.0  ⋱\n",
       " 0.0   0.0   1.0  0.0  -1.0  0.0   0.0   1.0   0.0   0.0  ⋱\n",
       " 0.0   0.0   0.0  1.0   0.0  0.0   0.0  -1.0   0.0   0.0  ⋱\n",
       " 0.0   0.0   0.0  1.0   0.0  0.0   0.0   1.0   0.0   0.0  ⋱\n",
       " 0.0   0.0   0.0  0.0   0.0  1.0   0.0   0.0  -1.0   0.0  ⋱\n",
       " 0.0   0.0   0.0  0.0   0.0  0.0   1.0   0.0   0.0   0.0  ⋱\n",
       "  ⋮     ⋱     ⋱    ⋱     ⋱    ⋱     ⋱     ⋱     ⋱     ⋱   ⋱"
      ]
     },
     "execution_count": 11,
     "metadata": {},
     "output_type": "execute_result"
    }
   ],
   "source": [
    "Bdy_op_E3=[ldirichlet(dx)⊗I;rdirichlet(dx)⊗I;I⊗ldirichlet(dt)]"
   ]
  },
  {
   "cell_type": "code",
   "execution_count": 12,
   "metadata": {},
   "outputs": [
    {
     "data": {
      "text/plain": [
       "InterlaceOperator : Chebyshev(0..1)⊗ApproxFunBase.UnsetSpace() → 3-element ArraySpace:\n",
       "TensorSpace{SV,D,Union{}} where D where SV[ConstantSpace(Point(0))⊗UnsetSpace(), ConstantSpace(Point(1))⊗UnsetSpace(), Chebyshev(0..1)⊗UnsetSpace()]\n"
      ]
     },
     "execution_count": 12,
     "metadata": {},
     "output_type": "execute_result"
    }
   ],
   "source": [
    "Bdy_op_B1=[ldirichlet(dx)⊗I;rdirichlet(dx)⊗I;0*I]"
   ]
  },
  {
   "cell_type": "code",
   "execution_count": 13,
   "metadata": {},
   "outputs": [
    {
     "data": {
      "text/plain": [
       "InterlaceOperator : ApproxFunBase.UnsetSpace()⊗Chebyshev(0..10) → 3-element ArraySpace:\n",
       "TensorSpace{SV,D,Union{}} where D where SV[UnsetSpace()⊗ConstantSpace(Point(0)), UnsetSpace()⊗Chebyshev(0..10), UnsetSpace()⊗Chebyshev(0..10)]\n"
      ]
     },
     "execution_count": 13,
     "metadata": {},
     "output_type": "execute_result"
    }
   ],
   "source": [
    "Bdy_op_B2=[I⊗ldirichlet(dt);0*I;0*I]"
   ]
  },
  {
   "cell_type": "code",
   "execution_count": 14,
   "metadata": {},
   "outputs": [
    {
     "data": {
      "text/plain": [
       "InterlaceOperator : ApproxFunBase.UnsetSpace()⊗Chebyshev(0..10) → 3-element ArraySpace:\n",
       "TensorSpace{SV,D,Union{}} where D where SV[UnsetSpace()⊗ConstantSpace(Point(0)), UnsetSpace()⊗Chebyshev(0..10), UnsetSpace()⊗Chebyshev(0..10)]\n"
      ]
     },
     "execution_count": 14,
     "metadata": {},
     "output_type": "execute_result"
    }
   ],
   "source": [
    "Bdy_op_B3=[I⊗ldirichlet(dt);0*I;0*I]"
   ]
  },
  {
   "cell_type": "code",
   "execution_count": 15,
   "metadata": {},
   "outputs": [
    {
     "data": {
      "text/plain": [
       "InterlaceOperator : 6-element ArraySpace:\n",
       "TensorSpace[Chebyshev(0..1)⊗UnsetSpace(), Chebyshev(0..1)⊗Chebyshev(0..10), Chebyshev(0..1)⊗Chebyshev(0..10), Chebyshev(0..1)⊗UnsetSpace(), UnsetSpace()⊗Chebyshev(0..10), UnsetSpace()⊗Chebyshev(0..10)] → 6-element ArraySpace:\n",
       "ApproxFunBase.ArraySpace{S,1,DD,RR} where RR where DD where S[3-element ArraySpace:\n",
       "TensorSpace{SV,D,Union{}} where D where SV[ConstantSpace(Point(0))⊗UnsetSpace(), ConstantSpace(Point(1))⊗UnsetSpace(), Chebyshev(0..1)⊗UnsetSpace()], 3-element ArraySpace:\n",
       "TensorSpace{SV,D,Float64} where D where SV[ConstantSpace(Point(0))⊗Chebyshev(0..10), ConstantSpace(Point(1))⊗Chebyshev(0..10), Chebyshev(0..1)⊗ConstantSpace(Point(0))], 3-element ArraySpace:\n",
       "TensorSpace{SV,D,Float64} where D where SV[ConstantSpace(Point(0))⊗Chebyshev(0..10), ConstantSpace(Point(1))⊗Chebyshev(0..10), Chebyshev(0..1)⊗ConstantSpace(Point(0))], 3-element ArraySpace:\n",
       "TensorSpace{SV,D,Union{}} where D where SV[ConstantSpace(Point(0))⊗UnsetSpace(), ConstantSpace(Point(1))⊗UnsetSpace(), Chebyshev(0..1)⊗UnsetSpace()], 3-element ArraySpace:\n",
       "TensorSpace{SV,D,Union{}} where D where SV[UnsetSpace()⊗ConstantSpace(Point(0)), UnsetSpace()⊗Chebyshev(0..10), UnsetSpace()⊗Chebyshev(0..10)], 3-element ArraySpace:\n",
       "TensorSpace{SV,D,Union{}} where D where SV[UnsetSpace()⊗ConstantSpace(Point(0)), UnsetSpace()⊗Chebyshev(0..10), UnsetSpace()⊗Chebyshev(0..10)]]\n"
      ]
     },
     "execution_count": 15,
     "metadata": {},
     "output_type": "execute_result"
    }
   ],
   "source": [
    "Bdy_op=[Bdy_op_E1 0 0 0 0 0;\n",
    "        0 Bdy_op_E2 0 0 0 0;\n",
    "        0 0 Bdy_op_E3 0 0 0;\n",
    "        0 0 0 Bdy_op_B1 0 0;\n",
    "        0 0 0 0 Bdy_op_B2 0;\n",
    "        0 0 0 0 0 Bdy_op_B3]"
   ]
  },
  {
   "cell_type": "code",
   "execution_count": 16,
   "metadata": {},
   "outputs": [
    {
     "data": {
      "text/plain": [
       "0"
      ]
     },
     "execution_count": 16,
     "metadata": {},
     "output_type": "execute_result"
    }
   ],
   "source": [
    "ρ=0"
   ]
  },
  {
   "cell_type": "code",
   "execution_count": 17,
   "metadata": {},
   "outputs": [
    {
     "data": {
      "text/plain": [
       "0"
      ]
     },
     "execution_count": 17,
     "metadata": {},
     "output_type": "execute_result"
    }
   ],
   "source": [
    "J1=0"
   ]
  },
  {
   "cell_type": "code",
   "execution_count": 18,
   "metadata": {},
   "outputs": [
    {
     "data": {
      "text/plain": [
       "0"
      ]
     },
     "execution_count": 18,
     "metadata": {},
     "output_type": "execute_result"
    }
   ],
   "source": [
    "J2=0"
   ]
  },
  {
   "cell_type": "code",
   "execution_count": 19,
   "metadata": {},
   "outputs": [
    {
     "data": {
      "text/plain": [
       "0"
      ]
     },
     "execution_count": 19,
     "metadata": {},
     "output_type": "execute_result"
    }
   ],
   "source": [
    "J3=0"
   ]
  },
  {
   "cell_type": "code",
   "execution_count": 20,
   "metadata": {
    "scrolled": true
   },
   "outputs": [
    {
     "data": {
      "text/plain": [
       "Fun(Chebyshev(0..1),[0.472001, 4.84037e-18, -0.499403, -4.92946e-17, 0.0279921, -3.19766e-17, -0.000596695, -3.92401e-18, 6.70439e-6, -4.92641e-18, -4.65323e-8, -5.38826e-18, 2.19346e-10, 1.68548e-17, -7.48165e-13, -1.07171e-17, 1.88411e-15])"
      ]
     },
     "execution_count": 20,
     "metadata": {},
     "output_type": "execute_result"
    }
   ],
   "source": [
    "E2_init=Fun(a->sin(π*a),dx)"
   ]
  },
  {
   "cell_type": "code",
   "execution_count": 21,
   "metadata": {},
   "outputs": [
    {
     "data": {
      "text/plain": [
       "Fun(Chebyshev(0..1),[1.55854e-17, -0.569231, 7.56299e-18, 0.666917, 9.59204e-17, -0.104282, 4.7658e-17, 0.00684063, -7.90929e-18, -0.000250007  …  -5.27041e-17, -9.53477e-8, 3.6982e-17, 1.14564e-9, -8.01146e-18, -1.05742e-11, 4.15999e-17, 7.72892e-14, -1.16847e-16, -5.91098e-16])"
      ]
     },
     "execution_count": 21,
     "metadata": {},
     "output_type": "execute_result"
    }
   ],
   "source": [
    "E3_init=Fun(a->sin(2*π*a),dx)"
   ]
  },
  {
   "cell_type": "code",
   "execution_count": 22,
   "metadata": {},
   "outputs": [
    {
     "data": {
      "text/plain": [
       "Fun(Chebyshev(0..1),[2.94903e-17, -1.13365, -2.31823e-17, 0.138072, -2.15142e-17, -0.00449071, 2.22479e-17, 6.77013e-5, -1.03938e-17, -5.8913e-7, -8.44511e-19, 3.33806e-9, -2.0229e-18, -1.32971e-11, 2.87454e-17, 3.92245e-14])"
      ]
     },
     "execution_count": 22,
     "metadata": {},
     "output_type": "execute_result"
    }
   ],
   "source": [
    "B2_init=Fun(b->cos(π*b),dx)"
   ]
  },
  {
   "cell_type": "code",
   "execution_count": 23,
   "metadata": {},
   "outputs": [
    {
     "data": {
      "text/plain": [
       "Fun(Chebyshev(0..1),[0.304242, -6.20669e-17, 0.970868, 9.5597e-17, -0.302849, -2.02327e-17, 0.0290919, -1.86781e-17, -0.00139224, 2.19667e-18  …  1.95532e-17, -7.78277e-7, -4.85791e-17, 1.08265e-8, 8.73915e-18, -1.13511e-10, 6.2675e-17, 9.29592e-13, -7.03659e-18, -6.1607e-15])"
      ]
     },
     "execution_count": 23,
     "metadata": {},
     "output_type": "execute_result"
    }
   ],
   "source": [
    "B3_init=Fun(b->cos(2*π*b),dx)"
   ]
  },
  {
   "cell_type": "code",
   "execution_count": 24,
   "metadata": {},
   "outputs": [
    {
     "data": {
      "text/plain": [
       "21"
      ]
     },
     "execution_count": 24,
     "metadata": {},
     "output_type": "execute_result"
    }
   ],
   "source": [
    "length(coefficients(B3_init))"
   ]
  },
  {
   "cell_type": "code",
   "execution_count": 25,
   "metadata": {
    "scrolled": true
   },
   "outputs": [
    {
     "name": "stdout",
     "output_type": "stream",
     "text": [
      "665.436131 seconds (64.98 M allocations: 6.496 GiB, 0.50% gc time)\n"
     ]
    },
    {
     "data": {
      "text/plain": [
       "Fun(6-element ArraySpace:\n",
       "TensorSpace{Tuple{Chebyshev{Interval{:closed,:closed,Int64},Float64},Chebyshev{Interval{:closed,:closed,Int64},Float64}},DomainSets.ProductDomain{Tuple{Interval{:closed,:closed,Int64},Interval{:closed,:closed,Int64}},Tuple{Int64,Int64},StaticArrays.SArray{Tuple{2},Int64,1,2}},Float64}[Chebyshev(0..1)⊗Chebyshev(0..10), Chebyshev(0..1)⊗Chebyshev(0..10), Chebyshev(0..1)⊗Chebyshev(0..10), Chebyshev(0..1)⊗Chebyshev(0..10), Chebyshev(0..1)⊗Chebyshev(0..10), Chebyshev(0..1)⊗Chebyshev(0..10)],[-1.35965e-18, 0.0666381, -5.60864e-17, -1.49842e-18, 3.51861e-7, 0.0305057, -1.1458e-17, -1.34998e-18, -2.3662e-16, -2.3449e-6  …  1.43248e-21, 1.19451e-6, -1.2628e-17, 2.82558e-5, -3.937e-17, 4.64974e-5, -3.05751e-17, 2.35431e-5, -1.08741e-17, 4.35657e-8])"
      ]
     },
     "execution_count": 25,
     "metadata": {},
     "output_type": "execute_result"
    }
   ],
   "source": [
    "@time F=\\([v0∇,Bdy_op],[[ρ,J1,J2,J3,0,0,0,0],[[0;0;0],[0;0;E2_init],[0;0;E3_init],[0;0;0],[B2_init;0;0],[B3_init;0;0]]],tolerance=1e-4)"
   ]
  },
  {
   "cell_type": "code",
   "execution_count": 37,
   "metadata": {},
   "outputs": [
    {
     "data": {
      "text/plain": [
       "Fun(8-element ArraySpace:\n",
       "TensorSpace{SV,DomainSets.ProductDomain{Tuple{Interval{:closed,:closed,Int64},Interval{:closed,:closed,Int64}},Tuple{Int64,Int64},StaticArrays.SArray{Tuple{2},Int64,1,2}},Float64} where SV[Ultraspherical(1,0..1)⊗Chebyshev(0..10), Chebyshev(0..1)⊗Ultraspherical(1,0..10), Ultraspherical(1,0..1)⊗Ultraspherical(1,0..10), Ultraspherical(1,0..1)⊗Ultraspherical(1,0..10), Chebyshev(0..1)⊗Ultraspherical(1,0..10), Ultraspherical(1,0..1)⊗Ultraspherical(1,0..10), Ultraspherical(1,0..1)⊗Ultraspherical(1,0..10), Ultraspherical(1,0..1)⊗Chebyshev(0..10)],[-2.69995e-18, -2.29161e-18, -1.10986e-17, 2.77556e-16, -1.65329e-19, 5.10322e-17, 2.32185e-17, -2.49288e-17, 7.63276e-19, 1.57404e-18  …  -3.98488e-19, -3.10298e-19, -2.24266e-19, -1.53978e-19, -6.17329e-19, 1.56436e-18, -2.48484e-19, -1.42962e-18, 3.46695e-19, 1.34653e-19])"
      ]
     },
     "execution_count": 37,
     "metadata": {},
     "output_type": "execute_result"
    }
   ],
   "source": [
    "J=v0∇*F"
   ]
  },
  {
   "cell_type": "code",
   "execution_count": 40,
   "metadata": {},
   "outputs": [
    {
     "data": {
      "text/plain": [
       "1"
      ]
     },
     "metadata": {},
     "output_type": "display_data"
    },
    {
     "data": {
      "text/plain": [
       "2"
      ]
     },
     "metadata": {},
     "output_type": "display_data"
    },
    {
     "data": {
      "text/plain": [
       "3"
      ]
     },
     "metadata": {},
     "output_type": "display_data"
    },
    {
     "data": {
      "text/plain": [
       "4"
      ]
     },
     "metadata": {},
     "output_type": "display_data"
    },
    {
     "data": {
      "text/plain": [
       "5"
      ]
     },
     "metadata": {},
     "output_type": "display_data"
    },
    {
     "data": {
      "text/plain": [
       "6"
      ]
     },
     "metadata": {},
     "output_type": "display_data"
    },
    {
     "data": {
      "text/plain": [
       "7"
      ]
     },
     "metadata": {},
     "output_type": "display_data"
    },
    {
     "data": {
      "text/plain": [
       "8"
      ]
     },
     "metadata": {},
     "output_type": "display_data"
    }
   ],
   "source": [
    "l=length(J)\n",
    "sum=0\n",
    "for i=1:l\n",
    "    sum+=J[i]*J[i]\n",
    "    display(i)\n",
    "end"
   ]
  },
  {
   "cell_type": "code",
   "execution_count": 41,
   "metadata": {},
   "outputs": [
    {
     "data": {
      "text/plain": [
       "Fun(Chebyshev(0..1)⊗Chebyshev(0..10),[1.36027e-6, 5.37116e-7, -1.25771e-17, 2.66973e-6, 2.52938e-17, 2.44343e-6, 5.44774e-7, -2.51603e-17, 1.10184e-6, -1.31199e-17  …  -0.0, -0.0, -0.0, -0.0, -0.0, -0.0, -0.0, -0.0, -0.0, -0.0])"
      ]
     },
     "execution_count": 41,
     "metadata": {},
     "output_type": "execute_result"
    }
   ],
   "source": [
    "sum"
   ]
  },
  {
   "cell_type": "code",
   "execution_count": 45,
   "metadata": {},
   "outputs": [
    {
     "data": {
      "text/plain": [
       "DefiniteIntegralWrapper : Chebyshev(0..1)⊗Chebyshev(0..10) → ConstantSpace⊗ConstantSpace\n",
       " 10.0  0.0  0.0  -3.3333333333333335  0.0  …  0.0  -0.0  -0.0  0.0  ⋯"
      ]
     },
     "execution_count": 45,
     "metadata": {},
     "output_type": "execute_result"
    }
   ],
   "source": [
    "S=DefiniteIntegral(Chebyshev(0..1)⊗Chebyshev(0..10))"
   ]
  },
  {
   "cell_type": "code",
   "execution_count": 48,
   "metadata": {},
   "outputs": [
    {
     "data": {
      "text/plain": [
       "Fun(ConstantSpace⊗ConstantSpace,[2.4428e-7])"
      ]
     },
     "execution_count": 48,
     "metadata": {},
     "output_type": "execute_result"
    }
   ],
   "source": [
    "(S*sum)[1]"
   ]
  },
  {
   "cell_type": "code",
   "execution_count": null,
   "metadata": {},
   "outputs": [],
   "source": []
  }
 ],
 "metadata": {
  "kernelspec": {
   "display_name": "Julia 1.1.0",
   "language": "julia",
   "name": "julia-1.1"
  },
  "language_info": {
   "file_extension": ".jl",
   "mimetype": "application/julia",
   "name": "julia",
   "version": "1.1.0"
  }
 },
 "nbformat": 4,
 "nbformat_minor": 2
}
