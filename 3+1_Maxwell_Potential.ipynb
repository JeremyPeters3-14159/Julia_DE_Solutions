{
 "cells": [
  {
   "cell_type": "code",
   "execution_count": 1,
   "metadata": {},
   "outputs": [
    {
     "name": "stdout",
     "output_type": "stream",
     "text": [
      "Reduce (Free CSL version, revision 4534), 05-Apr-18 ...\n"
     ]
    }
   ],
   "source": [
    "using Grassmann\n",
    "using ApproxFun\n",
    "using LinearAlgebra\n",
    "using Reduce\n",
    "using Plots"
   ]
  },
  {
   "cell_type": "code",
   "execution_count": 2,
   "metadata": {},
   "outputs": [
    {
     "data": {
      "text/plain": [
       "(⟨+---⟩, v, v₁, v₂, v₃, v₄, v₁₂, v₁₃, v₁₄, v₂₃, v₂₄, v₃₄, v₁₂₃, v₁₂₄, v₁₃₄, v₂₃₄, v₁₂₃₄)"
      ]
     },
     "execution_count": 2,
     "metadata": {},
     "output_type": "execute_result"
    }
   ],
   "source": [
    "basis\"+---\""
   ]
  },
  {
   "cell_type": "code",
   "execution_count": 3,
   "metadata": {},
   "outputs": [
    {
     "data": {
      "text/plain": [
       "0..1"
      ]
     },
     "execution_count": 3,
     "metadata": {},
     "output_type": "execute_result"
    }
   ],
   "source": [
    "dx=(0..1)"
   ]
  },
  {
   "cell_type": "code",
   "execution_count": 4,
   "metadata": {},
   "outputs": [
    {
     "data": {
      "text/plain": [
       "0..10"
      ]
     },
     "execution_count": 4,
     "metadata": {},
     "output_type": "execute_result"
    }
   ],
   "source": [
    "dt=(0..10)"
   ]
  },
  {
   "cell_type": "code",
   "execution_count": 5,
   "metadata": {},
   "outputs": [
    {
     "data": {
      "text/plain": [
       "0..1 x 0..10"
      ]
     },
     "execution_count": 5,
     "metadata": {},
     "output_type": "execute_result"
    }
   ],
   "source": [
    "domain=dx×dt"
   ]
  },
  {
   "cell_type": "code",
   "execution_count": 6,
   "metadata": {},
   "outputs": [
    {
     "data": {
      "text/plain": [
       "DerivativeWrapper : Chebyshev(0..1)⊗Chebyshev(0..10) → Ultraspherical(1,0..1)⊗Chebyshev(0..10)\n",
       " 0.0  0.0  2.0  0.0  0.0  0.0  0.0  0.0  0.0  0.0  ⋯\n",
       " 0.0  0.0  0.0  0.0  2.0  0.0  0.0  0.0  0.0  0.0  ⋱\n",
       " 0.0  0.0  0.0  0.0  0.0  4.0  0.0  0.0  0.0  0.0  ⋱\n",
       " 0.0  0.0  0.0  0.0  0.0  0.0  0.0  2.0  0.0  0.0  ⋱\n",
       " 0.0  0.0  0.0  0.0  0.0  0.0  0.0  0.0  4.0  0.0  ⋱\n",
       " 0.0  0.0  0.0  0.0  0.0  0.0  0.0  0.0  0.0  6.0  ⋱\n",
       " 0.0  0.0  0.0  0.0  0.0  0.0  0.0  0.0  0.0  0.0  ⋱\n",
       " 0.0  0.0  0.0  0.0  0.0  0.0  0.0  0.0  0.0  0.0  ⋱\n",
       " 0.0  0.0  0.0  0.0  0.0  0.0  0.0  0.0  0.0  0.0  ⋱\n",
       " 0.0  0.0  0.0  0.0  0.0  0.0  0.0  0.0  0.0  0.0  ⋱\n",
       "  ⋮    ⋱    ⋱    ⋱    ⋱    ⋱    ⋱    ⋱    ⋱    ⋱   ⋱"
      ]
     },
     "execution_count": 6,
     "metadata": {},
     "output_type": "execute_result"
    }
   ],
   "source": [
    "∂x=Derivative(domain,[1,0])"
   ]
  },
  {
   "cell_type": "code",
   "execution_count": 7,
   "metadata": {},
   "outputs": [
    {
     "data": {
      "text/plain": [
       "DerivativeWrapper : Chebyshev(0..1)⊗Chebyshev(0..10) → Chebyshev(0..1)⊗Ultraspherical(1,0..10)\n",
       " 0.0  0.2  0.0  0.0  0.0  0.0  0.0                 0.0  0.0  0.0  ⋯\n",
       " 0.0  0.0  0.0  0.4  0.0  0.0  0.0                 0.0  0.0  0.0  ⋱\n",
       " 0.0  0.0  0.0  0.0  0.2  0.0  0.0                 0.0  0.0  0.0  ⋱\n",
       " 0.0  0.0  0.0  0.0  0.0  0.0  0.6000000000000001  0.0  0.0  0.0  ⋱\n",
       " 0.0  0.0  0.0  0.0  0.0  0.0  0.0                 0.4  0.0  0.0  ⋱\n",
       " 0.0  0.0  0.0  0.0  0.0  0.0  0.0                 0.0  0.2  0.0  ⋱\n",
       " 0.0  0.0  0.0  0.0  0.0  0.0  0.0                 0.0  0.0  0.0  ⋱\n",
       " 0.0  0.0  0.0  0.0  0.0  0.0  0.0                 0.0  0.0  0.0  ⋱\n",
       " 0.0  0.0  0.0  0.0  0.0  0.0  0.0                 0.0  0.0  0.0  ⋱\n",
       " 0.0  0.0  0.0  0.0  0.0  0.0  0.0                 0.0  0.0  0.0  ⋱\n",
       "  ⋮    ⋱    ⋱    ⋱    ⋱    ⋱    ⋱                   ⋱    ⋱    ⋱   ⋱"
      ]
     },
     "execution_count": 7,
     "metadata": {},
     "output_type": "execute_result"
    }
   ],
   "source": [
    "∂t=Derivative(domain,[0,1])"
   ]
  },
  {
   "cell_type": "code",
   "execution_count": 8,
   "metadata": {},
   "outputs": [
    {
     "data": {
      "text/plain": [
       "InterlaceOperator : 4-element ArraySpace:\n",
       "TensorSpace{Tuple{Chebyshev{Interval{:closed,:closed,Int64},Float64},Chebyshev{Interval{:closed,:closed,Int64},Float64}},DomainSets.ProductDomain{Tuple{Interval{:closed,:closed,Int64},Interval{:closed,:closed,Int64}},Tuple{Int64,Int64},StaticArrays.SArray{Tuple{2},Int64,1,2}},Float64}[Chebyshev(0..1)⊗Chebyshev(0..10), Chebyshev(0..1)⊗Chebyshev(0..10), Chebyshev(0..1)⊗Chebyshev(0..10), Chebyshev(0..1)⊗Chebyshev(0..10)] → 4-element ArraySpace:\n",
       "TensorSpace{Tuple{Ultraspherical{Int64,Interval{:closed,:closed,Int64},Float64},Ultraspherical{Int64,Interval{:closed,:closed,Int64},Float64}},DomainSets.ProductDomain{Tuple{Interval{:closed,:closed,Int64},Interval{:closed,:closed,Int64}},Tuple{Int64,Int64},StaticArrays.SArray{Tuple{2},Int64,1,2}},Float64}[Ultraspherical(2,0..1)⊗Ultraspherical(2,0..10), Ultraspherical(2,0..1)⊗Ultraspherical(2,0..10), Ultraspherical(2,0..1)⊗Ultraspherical(2,0..10), Ultraspherical(2,0..1)⊗Ultraspherical(2,0..10)]\n",
       " 0.0  0.0  0.0  0.0  0.0  0.0  0.0  0.0  0.0  0.0  ⋯\n",
       " 0.0  0.0  0.0  0.0  0.0  0.0  0.0  0.0  0.0  0.0  ⋱\n",
       " 0.0  0.0  0.0  0.0  0.0  0.0  0.0  0.0  0.0  0.0  ⋱\n",
       " 0.0  0.0  0.0  0.0  0.0  0.0  0.0  0.0  0.0  0.0  ⋱\n",
       " 0.0  0.0  0.0  0.0  0.0  0.0  0.0  0.0  0.0  0.0  ⋱\n",
       " 0.0  0.0  0.0  0.0  0.0  0.0  0.0  0.0  0.0  0.0  ⋱\n",
       " 0.0  0.0  0.0  0.0  0.0  0.0  0.0  0.0  0.0  0.0  ⋱\n",
       " 0.0  0.0  0.0  0.0  0.0  0.0  0.0  0.0  0.0  0.0  ⋱\n",
       " 0.0  0.0  0.0  0.0  0.0  0.0  0.0  0.0  0.0  0.0  ⋱\n",
       " 0.0  0.0  0.0  0.0  0.0  0.0  0.0  0.0  0.0  0.0  ⋱\n",
       "  ⋮    ⋱    ⋱    ⋱    ⋱    ⋱    ⋱    ⋱    ⋱    ⋱   ⋱"
      ]
     },
     "execution_count": 8,
     "metadata": {},
     "output_type": "execute_result"
    }
   ],
   "source": [
    "⊠=[∂t^2-∂x^2 0 0 0;\n",
    "    0 ∂t^2-∂x^2 0 0;\n",
    "    0 0 ∂t^2-∂x^2 0;\n",
    "    0 0 0 ∂t^2-∂x^2]"
   ]
  },
  {
   "cell_type": "code",
   "execution_count": 9,
   "metadata": {},
   "outputs": [
    {
     "data": {
      "text/plain": [
       "InterlaceOperator : Chebyshev(0..1)⊗Chebyshev(0..10) → 4-element ArraySpace:\n",
       "TensorSpace{SV,D,Float64} where D where SV[Chebyshev(0..1)⊗ConstantSpace(Point(0)), Chebyshev(0..1)⊗ConstantSpace(Point(0)), ConstantSpace(Point(0))⊗Chebyshev(0..10), ConstantSpace(Point(1))⊗Chebyshev(0..10)]\n",
       " 1.0  -1.0   0.0   1.0   0.0  0.0  -1.0   0.0   0.0   0.0  ⋯\n",
       " 0.0   0.2   0.0  -0.8   0.0  0.0   1.8   0.0   0.0   0.0  ⋱\n",
       " 1.0   0.0  -1.0   0.0   0.0  1.0   0.0   0.0   0.0  -1.0  ⋱\n",
       " 1.0   0.0   1.0   0.0   0.0  1.0   0.0   0.0   0.0   1.0  ⋱\n",
       " 0.0   0.0   1.0   0.0  -1.0  0.0   0.0   1.0   0.0   0.0  ⋱\n",
       " 0.0   0.0   0.0   0.0   0.2  0.0   0.0  -0.8   0.0   0.0  ⋱\n",
       " 0.0   1.0   0.0   0.0  -1.0  0.0   0.0   0.0   1.0   0.0  ⋱\n",
       " 0.0   1.0   0.0   0.0   1.0  0.0   0.0   0.0   1.0   0.0  ⋱\n",
       " 0.0   0.0   0.0   0.0   0.0  1.0   0.0   0.0  -1.0   0.0  ⋱\n",
       " 0.0   0.0   0.0   0.0   0.0  0.0   0.0   0.0   0.2   0.0  ⋱\n",
       "  ⋮     ⋱     ⋱     ⋱     ⋱    ⋱     ⋱     ⋱     ⋱     ⋱   ⋱"
      ]
     },
     "execution_count": 9,
     "metadata": {},
     "output_type": "execute_result"
    }
   ],
   "source": [
    "Bdy_V=[I⊗ldirichlet(dt);I⊗lneumann(dt);ldirichlet(dx)⊗I;rdirichlet(dx)⊗I]"
   ]
  },
  {
   "cell_type": "code",
   "execution_count": 10,
   "metadata": {},
   "outputs": [
    {
     "data": {
      "text/plain": [
       "InterlaceOperator : Chebyshev(0..1)⊗Chebyshev(0..10) → 4-element ArraySpace:\n",
       "TensorSpace{SV,D,Float64} where D where SV[Chebyshev(0..1)⊗ConstantSpace(Point(0)), Chebyshev(0..1)⊗ConstantSpace(Point(0)), ConstantSpace(Point(0))⊗Chebyshev(0..10), ConstantSpace(Point(1))⊗Chebyshev(0..10)]\n",
       " 1.0  -1.0  0.0   1.0   0.0   0.0  -1.0   0.0   0.0   0.0  ⋯\n",
       " 0.0   0.2  0.0  -0.8   0.0   0.0   1.8   0.0   0.0   0.0  ⋱\n",
       " 0.0   0.0  2.0   0.0   0.0  -8.0   0.0   0.0   0.0  18.0  ⋱\n",
       " 0.0   0.0  2.0   0.0   0.0   8.0   0.0   0.0   0.0  18.0  ⋱\n",
       " 0.0   0.0  1.0   0.0  -1.0   0.0   0.0   1.0   0.0   0.0  ⋱\n",
       " 0.0   0.0  0.0   0.0   0.2   0.0   0.0  -0.8   0.0   0.0  ⋱\n",
       " 0.0   0.0  0.0   0.0   2.0   0.0   0.0   0.0  -8.0   0.0  ⋱\n",
       " 0.0   0.0  0.0   0.0   2.0   0.0   0.0   0.0   8.0   0.0  ⋱\n",
       " 0.0   0.0  0.0   0.0   0.0   1.0   0.0   0.0  -1.0   0.0  ⋱\n",
       " 0.0   0.0  0.0   0.0   0.0   0.0   0.0   0.0   0.2   0.0  ⋱\n",
       "  ⋮     ⋱    ⋱     ⋱     ⋱     ⋱     ⋱     ⋱     ⋱     ⋱   ⋱"
      ]
     },
     "execution_count": 10,
     "metadata": {},
     "output_type": "execute_result"
    }
   ],
   "source": [
    "Bdy_A=[I⊗ldirichlet(dt);I⊗lneumann(dt);lneumann(dx)⊗I;rneumann(dx)⊗I]"
   ]
  },
  {
   "cell_type": "code",
   "execution_count": 11,
   "metadata": {
    "scrolled": false
   },
   "outputs": [
    {
     "data": {
      "text/plain": [
       "InterlaceOperator : 4-element ArraySpace:\n",
       "TensorSpace{Tuple{Chebyshev{Interval{:closed,:closed,Int64},Float64},Chebyshev{Interval{:closed,:closed,Int64},Float64}},DomainSets.ProductDomain{Tuple{Interval{:closed,:closed,Int64},Interval{:closed,:closed,Int64}},Tuple{Int64,Int64},StaticArrays.SArray{Tuple{2},Int64,1,2}},Float64}[Chebyshev(0..1)⊗Chebyshev(0..10), Chebyshev(0..1)⊗Chebyshev(0..10), Chebyshev(0..1)⊗Chebyshev(0..10), Chebyshev(0..1)⊗Chebyshev(0..10)] → 4-element ArraySpace:\n",
       "ApproxFunBase.ArraySpace{TensorSpace{SV,D,Float64} where D where SV,1,DomainSets.ProductDomain{Tuple{Interval{:closed,:closed,Int64},DomainSets.Point{Int64}},Tuple{Int64,Int64},StaticArrays.SArray{Tuple{2},Int64,1,2}},Float64}[4-element ArraySpace:\n",
       "TensorSpace{SV,D,Float64} where D where SV[Chebyshev(0..1)⊗ConstantSpace(Point(0)), Chebyshev(0..1)⊗ConstantSpace(Point(0)), ConstantSpace(Point(0))⊗Chebyshev(0..10), ConstantSpace(Point(1))⊗Chebyshev(0..10)], 4-element ArraySpace:\n",
       "TensorSpace{SV,D,Float64} where D where SV[Chebyshev(0..1)⊗ConstantSpace(Point(0)), Chebyshev(0..1)⊗ConstantSpace(Point(0)), ConstantSpace(Point(0))⊗Chebyshev(0..10), ConstantSpace(Point(1))⊗Chebyshev(0..10)], 4-element ArraySpace:\n",
       "TensorSpace{SV,D,Float64} where D where SV[Chebyshev(0..1)⊗ConstantSpace(Point(0)), Chebyshev(0..1)⊗ConstantSpace(Point(0)), ConstantSpace(Point(0))⊗Chebyshev(0..10), ConstantSpace(Point(1))⊗Chebyshev(0..10)], 4-element ArraySpace:\n",
       "TensorSpace{SV,D,Float64} where D where SV[Chebyshev(0..1)⊗ConstantSpace(Point(0)), Chebyshev(0..1)⊗ConstantSpace(Point(0)), ConstantSpace(Point(0))⊗Chebyshev(0..10), ConstantSpace(Point(1))⊗Chebyshev(0..10)]]\n",
       " 1.0  0.0  0.0  0.0  -1.0   0.0   0.0  0.0   0.0  0.0  ⋯\n",
       " 0.0  0.0  0.0  0.0   0.2   0.0   0.0  0.0   0.0  0.0  ⋱\n",
       " 1.0  0.0  0.0  0.0   0.0  -1.0   0.0  0.0   0.0  0.0  ⋱\n",
       " 1.0  0.0  0.0  0.0   0.0   1.0   0.0  0.0   0.0  0.0  ⋱\n",
       " 0.0  1.0  0.0  0.0   0.0   0.0  -1.0  0.0   0.0  0.0  ⋱\n",
       " 0.0  0.0  0.0  0.0   0.0   0.0   0.2  0.0   0.0  0.0  ⋱\n",
       " 0.0  0.0  0.0  0.0   0.0   0.0   0.0  2.0   0.0  0.0  ⋱\n",
       " 0.0  0.0  0.0  0.0   0.0   0.0   0.0  2.0   0.0  0.0  ⋱\n",
       " 0.0  0.0  1.0  0.0   0.0   0.0   0.0  0.0  -1.0  0.0  ⋱\n",
       " 0.0  0.0  0.0  0.0   0.0   0.0   0.0  0.0   0.2  0.0  ⋱\n",
       "  ⋮    ⋱    ⋱    ⋱     ⋱     ⋱     ⋱    ⋱     ⋱    ⋱   ⋱"
      ]
     },
     "execution_count": 11,
     "metadata": {},
     "output_type": "execute_result"
    }
   ],
   "source": [
    "Bdy_op=[Bdy_V 0 0 0; \n",
    "        0 Bdy_A 0 0; \n",
    "        0 0 Bdy_A 0; \n",
    "        0 0 0 Bdy_A]"
   ]
  },
  {
   "cell_type": "code",
   "execution_count": 12,
   "metadata": {},
   "outputs": [
    {
     "data": {
      "text/plain": [
       "Fun(4-element ArraySpace:\n",
       "Space[Chebyshev(0..1), ConstantSpace, ConstantSpace, ConstantSpace],[0.472001, 0.0, 0.0, 0.0, 4.84037e-18, -0.499403, -4.92946e-17, 0.0279921, -3.19766e-17, -0.000596695, -3.92401e-18, 6.70439e-6, -4.92641e-18, -4.65323e-8, -5.38826e-18, 2.19346e-10, 1.68548e-17, -7.48165e-13, -1.07171e-17, 1.88411e-15])"
      ]
     },
     "execution_count": 12,
     "metadata": {},
     "output_type": "execute_result"
    }
   ],
   "source": [
    "Bdy_ans_V=[Fun(a->sin(π*a),dx);0;0;0]"
   ]
  },
  {
   "cell_type": "code",
   "execution_count": 13,
   "metadata": {},
   "outputs": [
    {
     "data": {
      "text/plain": [
       "Fun(4-element ArraySpace:\n",
       "Space[ConstantSpace, Chebyshev(0..1), ConstantSpace, ConstantSpace],[0.0, 8.32667e-17, 0.0, 0.0, -3.56146, -8.7706e-17, 0.433765, -4.8818e-17, -0.014108, 8.8583e-17, 0.00021269, -3.25091e-17, -1.85081e-6, -2.79468e-19, 1.04868e-8, -3.54146e-17, -4.17738e-11, 7.29818e-17, 1.23628e-13])"
      ]
     },
     "execution_count": 13,
     "metadata": {},
     "output_type": "execute_result"
    }
   ],
   "source": [
    "Bdy_ans_A=[0;Fun(a->π*cos(π*a),dx);0;0]"
   ]
  },
  {
   "cell_type": "code",
   "execution_count": 14,
   "metadata": {},
   "outputs": [
    {
     "data": {
      "text/plain": [
       "Fun(Chebyshev(0..1)⊗Chebyshev(0..10),[0.25, 0.25, 0.25, 3.70074e-18, 0.25])"
      ]
     },
     "execution_count": 14,
     "metadata": {},
     "output_type": "execute_result"
    }
   ],
   "source": [
    "J=Fun((x,t)->x*0.1*t,domain)"
   ]
  },
  {
   "cell_type": "code",
   "execution_count": 22,
   "metadata": {},
   "outputs": [
    {
     "name": "stdout",
     "output_type": "stream",
     "text": [
      "  2.898822 seconds (7.10 M allocations: 366.307 MiB, 10.82% gc time)\n"
     ]
    },
    {
     "data": {
      "text/plain": [
       "Fun(4-element ArraySpace:\n",
       "TensorSpace{Tuple{Chebyshev{Interval{:closed,:closed,Int64},Float64},Chebyshev{Interval{:closed,:closed,Int64},Float64}},DomainSets.ProductDomain{Tuple{Interval{:closed,:closed,Int64},Interval{:closed,:closed,Int64}},Tuple{Int64,Int64},StaticArrays.SArray{Tuple{2},Int64,1,2}},Float64}[Chebyshev(0..1)⊗Chebyshev(0..10), Chebyshev(0..1)⊗Chebyshev(0..10), Chebyshev(0..1)⊗Chebyshev(0..10), Chebyshev(0..1)⊗Chebyshev(0..10)],[0.066638, -6.297e-14, 4.59534e-13, -1.12913e-13, -1.32137e-5, -4.41247e-16, -4.62431e-14, 4.5692e-7, 5.25981e-13, 4.5692e-7  …  -2.59146e-10, -1.08359e-19, 7.10575e-12, -2.05248e-21, -5.78665e-20, -8.43711e-7, -4.38762e-19, -2.83266e-5, 3.86037e-17, 4.62987e-7])"
      ]
     },
     "execution_count": 22,
     "metadata": {},
     "output_type": "execute_result"
    }
   ],
   "source": [
    "@time v0A=\\([⊠,Bdy_op],[[0,0,0,0],[Bdy_ans_V,Bdy_ans_A,Bdy_ans_A,Bdy_ans_A]],tolerance=1e-4)"
   ]
  },
  {
   "cell_type": "code",
   "execution_count": null,
   "metadata": {},
   "outputs": [],
   "source": []
  },
  {
   "cell_type": "code",
   "execution_count": 23,
   "metadata": {},
   "outputs": [
    {
     "data": {
      "text/plain": [
       "Fun(8-element ArraySpace:\n",
       "Space[Chebyshev(0..1)⊗Chebyshev(0..10), Chebyshev(0..1)⊗Chebyshev(0..10), Chebyshev(0..1)⊗Chebyshev(0..10), Chebyshev(0..1)⊗Chebyshev(0..10), ConstantSpace, ConstantSpace, ConstantSpace, ConstantSpace],[0.066638, -6.297e-14, 4.59534e-13, -1.12913e-13, 0.0, 0.0, 0.0, 0.0, -1.32137e-5, -4.41247e-16  …  -2.59146e-10, -1.08359e-19, 7.10575e-12, -2.05248e-21, -5.78665e-20, -8.43711e-7, -4.38762e-19, -2.83266e-5, 3.86037e-17, 4.62987e-7])"
      ]
     },
     "execution_count": 23,
     "metadata": {},
     "output_type": "execute_result"
    }
   ],
   "source": [
    "γ0A=[v0A[1];v0A[2];v0A[3];v0A[4];0;0;0;0]"
   ]
  },
  {
   "cell_type": "code",
   "execution_count": 24,
   "metadata": {},
   "outputs": [
    {
     "data": {
      "text/plain": [
       "InterlaceOperator : 8-element ArraySpace:\n",
       "TensorSpace{Tuple{Chebyshev{Interval{:closed,:closed,Int64},Float64},Chebyshev{Interval{:closed,:closed,Int64},Float64}},DomainSets.ProductDomain{Tuple{Interval{:closed,:closed,Int64},Interval{:closed,:closed,Int64}},Tuple{Int64,Int64},StaticArrays.SArray{Tuple{2},Int64,1,2}},Float64}[Chebyshev(0..1)⊗Chebyshev(0..10), Chebyshev(0..1)⊗Chebyshev(0..10), Chebyshev(0..1)⊗Chebyshev(0..10), Chebyshev(0..1)⊗Chebyshev(0..10), Chebyshev(0..1)⊗Chebyshev(0..10), Chebyshev(0..1)⊗Chebyshev(0..10), Chebyshev(0..1)⊗Chebyshev(0..10), Chebyshev(0..1)⊗Chebyshev(0..10)] → 8-element ArraySpace:\n",
       "TensorSpace{Tuple{Ultraspherical{Int64,Interval{:closed,:closed,Int64},Float64},Ultraspherical{Int64,Interval{:closed,:closed,Int64},Float64}},DomainSets.ProductDomain{Tuple{Interval{:closed,:closed,Int64},Interval{:closed,:closed,Int64}},Tuple{Int64,Int64},StaticArrays.SArray{Tuple{2},Int64,1,2}},Float64}[Ultraspherical(1,0..1)⊗Ultraspherical(1,0..10), Ultraspherical(1,0..1)⊗Ultraspherical(1,0..10), Ultraspherical(1,0..1)⊗Ultraspherical(1,0..10), Ultraspherical(1,0..1)⊗Ultraspherical(1,0..10), Ultraspherical(1,0..1)⊗Ultraspherical(1,0..10), Ultraspherical(1,0..1)⊗Ultraspherical(1,0..10), Ultraspherical(1,0..1)⊗Ultraspherical(1,0..10), Ultraspherical(1,0..1)⊗Ultraspherical(1,0..10)]\n",
       " 0.0  0.0  0.0  0.0  0.0  0.0  0.0  0.0  0.2   0.0  ⋯\n",
       " 0.0  0.0  0.0  0.0  0.0  0.0  0.0  0.0  0.0  -2.0  ⋱\n",
       " 0.0  0.0  0.0  0.0  0.0  0.0  0.0  0.0  0.0   0.0  ⋱\n",
       " 0.0  0.0  0.0  0.0  0.0  0.0  0.0  0.0  0.0   0.0  ⋱\n",
       " 0.0  0.0  0.0  0.0  0.0  0.0  0.0  0.0  0.0   0.0  ⋱\n",
       " 0.0  0.0  0.0  0.0  0.0  0.0  0.0  0.0  0.0   0.0  ⋱\n",
       " 0.0  0.0  0.0  0.0  0.0  0.0  0.0  0.0  0.0   0.0  ⋱\n",
       " 0.0  0.0  0.0  0.0  0.0  0.0  0.0  0.0  0.0   0.0  ⋱\n",
       " 0.0  0.0  0.0  0.0  0.0  0.0  0.0  0.0  0.0   0.0  ⋱\n",
       " 0.0  0.0  0.0  0.0  0.0  0.0  0.0  0.0  0.0   0.0  ⋱\n",
       "  ⋮    ⋱    ⋱    ⋱    ⋱    ⋱    ⋱    ⋱    ⋱     ⋱   ⋱"
      ]
     },
     "execution_count": 24,
     "metadata": {},
     "output_type": "execute_result"
    }
   ],
   "source": [
    "∇γ0 = [∂t  -∂x 0   0   0   0   0   0;\n",
    "       -∂x ∂t  0   0   0   0   0   0;\n",
    "       0   0   ∂t  0   0   0   -∂x 0;\n",
    "       0   0   0   ∂t  0   ∂x  0   0;\n",
    "       0   0   0   0   ∂t  0   0   -∂x;\n",
    "       0   0   0   ∂x  0   ∂t  0   0;\n",
    "       0   0   -∂x 0   0   0   ∂t  0;\n",
    "       0   0   0   0   -∂x 0   0   ∂t]"
   ]
  },
  {
   "cell_type": "code",
   "execution_count": null,
   "metadata": {},
   "outputs": [],
   "source": []
  },
  {
   "cell_type": "code",
   "execution_count": 35,
   "metadata": {},
   "outputs": [
    {
     "data": {
      "text/plain": [
       "Fun(8-element ArraySpace:\n",
       "TensorSpace{Tuple{Ultraspherical{Int64,Interval{:closed,:closed,Int64},Float64},Ultraspherical{Int64,Interval{:closed,:closed,Int64},Float64}},DomainSets.ProductDomain{Tuple{Interval{:closed,:closed,Int64},Interval{:closed,:closed,Int64}},Tuple{Int64,Int64},StaticArrays.SArray{Tuple{2},Int64,1,2}},Float64}[Ultraspherical(1,0..1)⊗Ultraspherical(1,0..10), Ultraspherical(1,0..1)⊗Ultraspherical(1,0..10), Ultraspherical(1,0..1)⊗Ultraspherical(1,0..10), Ultraspherical(1,0..1)⊗Ultraspherical(1,0..10), Ultraspherical(1,0..1)⊗Ultraspherical(1,0..10), Ultraspherical(1,0..1)⊗Ultraspherical(1,0..10), Ultraspherical(1,0..1)⊗Ultraspherical(1,0..10), Ultraspherical(1,0..1)⊗Ultraspherical(1,0..10)],[-3.37679e-6, -9.42099e-15, 1.0555e-13, -1.39275e-14, 0.0, 1.18757e-6, 7.03339e-7, 0.0, -6.07878e-5, -3.86326e-17  …  0.0, 0.0, 0.0, 0.0, 0.0, 0.0, 0.0, 0.0, 0.0, 0.0])"
      ]
     },
     "execution_count": 35,
     "metadata": {},
     "output_type": "execute_result"
    }
   ],
   "source": [
    "F=(∇γ0)*(γ0A)"
   ]
  },
  {
   "cell_type": "code",
   "execution_count": 36,
   "metadata": {},
   "outputs": [
    {
     "data": {
      "text/plain": [
       "InterlaceOperator : 8-element ArraySpace:\n",
       "TensorSpace{Tuple{Chebyshev{Interval{:closed,:closed,Int64},Float64},Chebyshev{Interval{:closed,:closed,Int64},Float64}},DomainSets.ProductDomain{Tuple{Interval{:closed,:closed,Int64},Interval{:closed,:closed,Int64}},Tuple{Int64,Int64},StaticArrays.SArray{Tuple{2},Int64,1,2}},Float64}[Chebyshev(0..1)⊗Chebyshev(0..10), Chebyshev(0..1)⊗Chebyshev(0..10), Chebyshev(0..1)⊗Chebyshev(0..10), Chebyshev(0..1)⊗Chebyshev(0..10), Chebyshev(0..1)⊗Chebyshev(0..10), Chebyshev(0..1)⊗Chebyshev(0..10), Chebyshev(0..1)⊗Chebyshev(0..10), Chebyshev(0..1)⊗Chebyshev(0..10)] → 8-element ArraySpace:\n",
       "TensorSpace{Tuple{Ultraspherical{Int64,Interval{:closed,:closed,Int64},Float64},Ultraspherical{Int64,Interval{:closed,:closed,Int64},Float64}},DomainSets.ProductDomain{Tuple{Interval{:closed,:closed,Int64},Interval{:closed,:closed,Int64}},Tuple{Int64,Int64},StaticArrays.SArray{Tuple{2},Int64,1,2}},Float64}[Ultraspherical(1,0..1)⊗Ultraspherical(1,0..10), Ultraspherical(1,0..1)⊗Ultraspherical(1,0..10), Ultraspherical(1,0..1)⊗Ultraspherical(1,0..10), Ultraspherical(1,0..1)⊗Ultraspherical(1,0..10), Ultraspherical(1,0..1)⊗Ultraspherical(1,0..10), Ultraspherical(1,0..1)⊗Ultraspherical(1,0..10), Ultraspherical(1,0..1)⊗Ultraspherical(1,0..10), Ultraspherical(1,0..1)⊗Ultraspherical(1,0..10)]\n",
       " 0.0  0.0  0.0  0.0  0.0  0.0  0.0  0.0  0.2  0.0  ⋯\n",
       " 0.0  0.0  0.0  0.0  0.0  0.0  0.0  0.0  0.0  2.0  ⋱\n",
       " 0.0  0.0  0.0  0.0  0.0  0.0  0.0  0.0  0.0  0.0  ⋱\n",
       " 0.0  0.0  0.0  0.0  0.0  0.0  0.0  0.0  0.0  0.0  ⋱\n",
       " 0.0  0.0  0.0  0.0  0.0  0.0  0.0  0.0  0.0  0.0  ⋱\n",
       " 0.0  0.0  0.0  0.0  0.0  0.0  0.0  0.0  0.0  0.0  ⋱\n",
       " 0.0  0.0  0.0  0.0  0.0  0.0  0.0  0.0  0.0  0.0  ⋱\n",
       " 0.0  0.0  0.0  0.0  0.0  0.0  0.0  0.0  0.0  0.0  ⋱\n",
       " 0.0  0.0  0.0  0.0  0.0  0.0  0.0  0.0  0.0  0.0  ⋱\n",
       " 0.0  0.0  0.0  0.0  0.0  0.0  0.0  0.0  0.0  0.0  ⋱\n",
       "  ⋮    ⋱    ⋱    ⋱    ⋱    ⋱    ⋱    ⋱    ⋱    ⋱   ⋱"
      ]
     },
     "execution_count": 36,
     "metadata": {},
     "output_type": "execute_result"
    }
   ],
   "source": [
    "γ0∇ = [∂t  ∂x  0   0   0   0   0   0;\n",
    "       ∂x  ∂t  0   0   0   0   0   0;\n",
    "       0   0   ∂t  0   0   0   ∂x  0;\n",
    "       0   0   0   ∂t  0   -∂x 0   0;\n",
    "       0   0   0   0   ∂t  0   0   ∂x;\n",
    "       0   0   0   -∂x 0   ∂t  0   0;\n",
    "       0   0   ∂x  0   0   0   ∂t  0;\n",
    "       0   0   0   0   ∂x  0   0   ∂t]"
   ]
  },
  {
   "cell_type": "code",
   "execution_count": 37,
   "metadata": {},
   "outputs": [
    {
     "data": {
      "text/plain": [
       "Fun(8-element ArraySpace:\n",
       "TensorSpace{Tuple{Ultraspherical{Int64,Interval{:closed,:closed,Int64},Float64},Ultraspherical{Int64,Interval{:closed,:closed,Int64},Float64}},DomainSets.ProductDomain{Tuple{Interval{:closed,:closed,Int64},Interval{:closed,:closed,Int64}},Tuple{Int64,Int64},StaticArrays.SArray{Tuple{2},Int64,1,2}},Float64}[Ultraspherical(1,0..1)⊗Ultraspherical(1,0..10), Ultraspherical(1,0..1)⊗Ultraspherical(1,0..10), Ultraspherical(1,0..1)⊗Ultraspherical(1,0..10), Ultraspherical(1,0..1)⊗Ultraspherical(1,0..10), Ultraspherical(1,0..1)⊗Ultraspherical(1,0..10), Ultraspherical(1,0..1)⊗Ultraspherical(1,0..10), Ultraspherical(1,0..1)⊗Ultraspherical(1,0..10), Ultraspherical(1,0..1)⊗Ultraspherical(1,0..10)],[2.60362e-6, -5.38856e-16, 4.71256e-15, 4.80968e-15, 0.0, -1.1415e-16, -8.569e-17, 0.0, 3.00723e-7, -1.23962e-14  …  0.0, 0.0, 0.0, 0.0, 0.0, 0.0, 0.0, 0.0, 0.0, 0.0])"
      ]
     },
     "execution_count": 37,
     "metadata": {},
     "output_type": "execute_result"
    }
   ],
   "source": [
    "γ0J=γ0∇*F"
   ]
  },
  {
   "cell_type": "code",
   "execution_count": 39,
   "metadata": {},
   "outputs": [
    {
     "data": {
      "text/plain": [
       "1"
      ]
     },
     "metadata": {},
     "output_type": "display_data"
    },
    {
     "data": {
      "text/plain": [
       "2"
      ]
     },
     "metadata": {},
     "output_type": "display_data"
    },
    {
     "data": {
      "text/plain": [
       "3"
      ]
     },
     "metadata": {},
     "output_type": "display_data"
    },
    {
     "data": {
      "text/plain": [
       "4"
      ]
     },
     "metadata": {},
     "output_type": "display_data"
    },
    {
     "data": {
      "text/plain": [
       "5"
      ]
     },
     "metadata": {},
     "output_type": "display_data"
    },
    {
     "data": {
      "text/plain": [
       "6"
      ]
     },
     "metadata": {},
     "output_type": "display_data"
    },
    {
     "data": {
      "text/plain": [
       "7"
      ]
     },
     "metadata": {},
     "output_type": "display_data"
    },
    {
     "data": {
      "text/plain": [
       "8"
      ]
     },
     "metadata": {},
     "output_type": "display_data"
    }
   ],
   "source": [
    "l=length(γ0J)\n",
    "sum=0\n",
    "for i=1:l\n",
    "    sum+=γ0J[i]*γ0J[i]\n",
    "    display(i)\n",
    "end"
   ]
  },
  {
   "cell_type": "code",
   "execution_count": 42,
   "metadata": {},
   "outputs": [
    {
     "data": {
      "text/plain": [
       "Fun(ConstantSpace⊗ConstantSpace,[0.000701946])"
      ]
     },
     "execution_count": 42,
     "metadata": {},
     "output_type": "execute_result"
    }
   ],
   "source": [
    "DefiniteIntegral(Chebyshev(0..1)⊗Chebyshev(0..10))*sum"
   ]
  },
  {
   "cell_type": "code",
   "execution_count": null,
   "metadata": {},
   "outputs": [],
   "source": []
  }
 ],
 "metadata": {
  "kernelspec": {
   "display_name": "Julia 1.1.0",
   "language": "julia",
   "name": "julia-1.1"
  },
  "language_info": {
   "file_extension": ".jl",
   "mimetype": "application/julia",
   "name": "julia",
   "version": "1.1.0"
  }
 },
 "nbformat": 4,
 "nbformat_minor": 2
}
