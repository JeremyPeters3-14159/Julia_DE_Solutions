{
 "cells": [
  {
   "cell_type": "code",
   "execution_count": 3,
   "metadata": {},
   "outputs": [
    {
     "name": "stderr",
     "output_type": "stream",
     "text": [
      "┌ Info: Precompiling ScalarSelfForce4d [75b1cf88-d375-4697-8bf4-586702fa32c0]\n",
      "└ @ Base loading.jl:1186\n"
     ]
    }
   ],
   "source": [
    "using ScalarSelfForce4d"
   ]
  },
  {
   "cell_type": "code",
   "execution_count": 4,
   "metadata": {},
   "outputs": [
    {
     "data": {
      "text/plain": [
       "5"
      ]
     },
     "execution_count": 4,
     "metadata": {},
     "output_type": "execute_result"
    }
   ],
   "source": [
    "n = 5"
   ]
  },
  {
   "cell_type": "code",
   "execution_count": 5,
   "metadata": {},
   "outputs": [
    {
     "data": {
      "text/plain": [
       "ldom (generic function with 1 method)"
      ]
     },
     "execution_count": 5,
     "metadata": {},
     "output_type": "execute_result"
    }
   ],
   "source": [
    "function ldom(D::Int)\n",
    "    Domain{D, Float64}(n, lorentzian=true)\n",
    "end"
   ]
  },
  {
   "cell_type": "code",
   "execution_count": 6,
   "metadata": {},
   "outputs": [
    {
     "data": {
      "text/plain": [
       "Domain{2,Float64}(false, Bool[false, false], [5, 5], [1, -1], [-1.0, 0.0], [1.0, 1.0])"
      ]
     },
     "execution_count": 6,
     "metadata": {},
     "output_type": "execute_result"
    }
   ],
   "source": [
    "ldom(2)"
   ]
  },
  {
   "cell_type": "code",
   "execution_count": 8,
   "metadata": {},
   "outputs": [
    {
     "data": {
      "text/plain": [
       "wave2 (generic function with 1 method)"
      ]
     },
     "execution_count": 8,
     "metadata": {},
     "output_type": "execute_result"
    }
   ],
   "source": [
    "function wave2(x::Vec{2,T}) where {T}\n",
    "    sinpi(x[1]) * sinpi(x[2])\n",
    "end"
   ]
  },
  {
   "cell_type": "code",
   "execution_count": 9,
   "metadata": {},
   "outputs": [
    {
     "data": {
      "text/plain": [
       "2"
      ]
     },
     "execution_count": 9,
     "metadata": {},
     "output_type": "execute_result"
    }
   ],
   "source": [
    "D = 2"
   ]
  },
  {
   "cell_type": "code",
   "execution_count": 11,
   "metadata": {},
   "outputs": [
    {
     "data": {
      "text/plain": [
       "Form{2,0,false,Float64,Float64}(Domain{2,Float64}(false, Bool[false, false], [5, 5], [1, -1], [-1.0, 0.0], [1.0, 1.0]), Dict([]=>[0.0 0.0 … 0.0 0.0; 0.0 0.0 … 0.0 0.0; … ; 0.0 0.0 … 0.0 0.0; 0.0 0.0 … 0.0 0.0]))"
      ]
     },
     "execution_count": 11,
     "metadata": {},
     "output_type": "execute_result"
    }
   ],
   "source": [
    "pot = zeros(Form{D, 0, false, Float64, Float64}, ldom(D))"
   ]
  },
  {
   "cell_type": "code",
   "execution_count": 12,
   "metadata": {},
   "outputs": [
    {
     "data": {
      "text/plain": [
       "Form{2,0,false,Float64,Float64}(Domain{2,Float64}(false, Bool[false, false], [5, 5], [1, -1], [-1.0, 0.0], [1.0, 1.0]), Dict([]=>[-0.0 -0.0 … -0.0 -0.0; -0.0 -0.707107 … -0.707107 -0.0; … ; 0.0 0.707107 … 0.707107 0.0; 0.0 0.0 … 0.0 0.0]))"
      ]
     },
     "execution_count": 12,
     "metadata": {},
     "output_type": "execute_result"
    }
   ],
   "source": [
    "bvals = Form(Dict(() => sample(wave2, ldom(2))))"
   ]
  },
  {
   "cell_type": "code",
   "execution_count": 48,
   "metadata": {},
   "outputs": [],
   "source": [
    "using Plots"
   ]
  },
  {
   "cell_type": "code",
   "execution_count": 41,
   "metadata": {},
   "outputs": [
    {
     "name": "stdout",
     "output_type": "stream",
     "text": [
      "\u001b[32m\u001b[1m  Building\u001b[22m\u001b[39m Conda ─→ `C:\\Users\\Jeremy\\.julia\\packages\\Conda\\CpuvI\\deps\\build.log`\n",
      "\u001b[32m\u001b[1m  Building\u001b[22m\u001b[39m PyCall → `C:\\Users\\Jeremy\\.julia\\packages\\PyCall\\ttONZ\\deps\\build.log`\n"
     ]
    },
    {
     "name": "stderr",
     "output_type": "stream",
     "text": [
      "┌ Error: Error building `PyCall`: \n",
      "│ ┌ Info: Using the Python distribution in the Conda package by default.\n",
      "│ └ To use a different Python version, set ENV[\"PYTHON\"]=\"pythoncommand\" and re-run Pkg.build(\"PyCall\").\n",
      "│ [ Info: Downloading miniconda installer ...\n",
      "│ ERROR: LoadError: failed process: Process(`'C:\\windows\\System32\\WindowsPowerShell\\v1.0\\powershell.exe' -Version 3 -NoProfile -Command \"[System.Net.ServicePointManager]::SecurityProtocol = [System.Net.SecurityProtocolType]::Tls12; (New-Object System.Net.Webclient).DownloadFile('https://repo.continuum.io/miniconda/Miniconda3-4.5.4-Windows-x86_64.exe', 'C:\\Users\\Jeremy\\.julia\\conda\\3\\installer.exe')\"`, ProcessExited(3221225477)) [3221225477]\n",
      "│ Stacktrace:\n",
      "│  [1] error(::String, ::Base.Process, ::String, ::Int64, ::String) at .\\error.jl:42\n",
      "│  [2] pipeline_error at .\\process.jl:785 [inlined]\n",
      "│  [3] download(::String, ::String) at .\\download.jl:20\n",
      "│  [4] _install_conda(::String, ::Bool) at C:\\Users\\Jeremy\\.julia\\packages\\Conda\\CpuvI\\src\\Conda.jl:160\n",
      "│  [5] _install_conda(::String) at C:\\Users\\Jeremy\\.julia\\packages\\Conda\\CpuvI\\src\\Conda.jl:152\n",
      "│  [6] runconda(::Cmd, ::String) at C:\\Users\\Jeremy\\.julia\\packages\\Conda\\CpuvI\\src\\Conda.jl:111\n",
      "│  [7] add at C:\\Users\\Jeremy\\.julia\\packages\\Conda\\CpuvI\\src\\Conda.jl:183 [inlined] (repeats 2 times)\n",
      "│  [8] top-level scope at C:\\Users\\Jeremy\\.julia\\packages\\PyCall\\ttONZ\\deps\\build.jl:84\n",
      "│  [9] include at .\\boot.jl:326 [inlined]\n",
      "│  [10] include_relative(::Module, ::String) at .\\loading.jl:1038\n",
      "│  [11] include(::Module, ::String) at .\\sysimg.jl:29\n",
      "│  [12] include(::String) at .\\client.jl:403\n",
      "│  [13] top-level scope at none:0\n",
      "│ in expression starting at C:\\Users\\Jeremy\\.julia\\packages\\PyCall\\ttONZ\\deps\\build.jl:43\n",
      "└ @ Pkg.Operations C:\\cygwin\\home\\Administrator\\buildbot\\worker\\package_win64\\build\\usr\\share\\julia\\stdlib\\v1.1\\Pkg\\src\\Operations.jl:1075\n"
     ]
    }
   ],
   "source": [
    "]build PyCall"
   ]
  },
  {
   "cell_type": "code",
   "execution_count": 47,
   "metadata": {},
   "outputs": [
    {
     "ename": "UndefVarError",
     "evalue": "UndefVarError: ioff not defined",
     "output_type": "error",
     "traceback": [
      "UndefVarError: ioff not defined",
      "",
      "Stacktrace:",
      " [1] getproperty(::Module, ::Symbol) at .\\sysimg.jl:13",
      " [2] top-level scope at C:\\Users\\Jeremy\\.julia\\packages\\Plots\\47Tik\\src\\backends.jl:491",
      " [3] eval at .\\boot.jl:328 [inlined]",
      " [4] _initialize_backend(::Plots.PyPlotBackend) at C:\\Users\\Jeremy\\.julia\\packages\\Plots\\47Tik\\src\\backends.jl:485",
      " [5] backend(::Plots.PyPlotBackend) at C:\\Users\\Jeremy\\.julia\\packages\\Plots\\47Tik\\src\\backends.jl:182",
      " [6] #pyplot#258 at C:\\Users\\Jeremy\\.julia\\packages\\Plots\\47Tik\\src\\backends.jl:33 [inlined]",
      " [7] pyplot() at C:\\Users\\Jeremy\\.julia\\packages\\Plots\\47Tik\\src\\backends.jl:33",
      " [8] top-level scope at In[47]:2"
     ]
    }
   ],
   "source": [
    "using PyPlot\n",
    "pyplot()"
   ]
  },
  {
   "cell_type": "code",
   "execution_count": 49,
   "metadata": {},
   "outputs": [
    {
     "ename": "ErrorException",
     "evalue": "only png or svg allowed. got: :html",
     "output_type": "error",
     "traceback": [
      "only png or svg allowed. got: :html",
      "",
      "Stacktrace:",
      " [1] error(::String) at .\\error.jl:33",
      " [2] _show(::Base.GenericIOBuffer{Array{UInt8,1}}, ::MIME{Symbol(\"text/html\")}, ::Plots.Plot{Plots.PlotlyBackend}) at C:\\Users\\Jeremy\\.julia\\packages\\Plots\\47Tik\\src\\output.jl:176",
      " [3] show(::Base.GenericIOBuffer{Array{UInt8,1}}, ::MIME{Symbol(\"text/html\")}, ::Plots.Plot{Plots.PlotlyBackend}) at C:\\Users\\Jeremy\\.julia\\packages\\Plots\\47Tik\\src\\output.jl:198",
      " [4] #sprint#340(::Nothing, ::Int64, ::Function, ::Function, ::MIME{Symbol(\"text/html\")}, ::Vararg{Any,N} where N) at .\\strings\\io.jl:101",
      " [5] sprint(::Function, ::MIME{Symbol(\"text/html\")}, ::Vararg{Any,N} where N) at .\\strings\\io.jl:97",
      " [6] _ijulia_display_dict(::Plots.Plot{Plots.PlotlyBackend}) at C:\\Users\\Jeremy\\.julia\\packages\\Plots\\47Tik\\src\\ijulia.jl:53",
      " [7] display_dict(::Plots.Plot{Plots.PlotlyBackend}) at C:\\Users\\Jeremy\\.julia\\packages\\Plots\\47Tik\\src\\init.jl:42",
      " [8] #invokelatest#1 at .\\essentials.jl:742 [inlined]",
      " [9] invokelatest at .\\essentials.jl:741 [inlined]",
      " [10] execute_request(::ZMQ.Socket, ::IJulia.Msg) at C:\\Users\\Jeremy\\.julia\\packages\\IJulia\\gI2uA\\src\\execute_request.jl:112",
      " [11] #invokelatest#1 at .\\essentials.jl:742 [inlined]",
      " [12] invokelatest at .\\essentials.jl:741 [inlined]",
      " [13] eventloop(::ZMQ.Socket) at C:\\Users\\Jeremy\\.julia\\packages\\IJulia\\gI2uA\\src\\eventloop.jl:8",
      " [14] (::getfield(IJulia, Symbol(\"##15#18\")))() at .\\task.jl:259"
     ]
    }
   ],
   "source": [
    "plot(range(-1.0,stop=1,length=100), range(0.0,stop=1,length=100), (x,t) -> bvals[()](Vec((x,t))))"
   ]
  },
  {
   "cell_type": "code",
   "execution_count": null,
   "metadata": {},
   "outputs": [],
   "source": []
  }
 ],
 "metadata": {
  "kernelspec": {
   "display_name": "Julia 1.1.0",
   "language": "julia",
   "name": "julia-1.1"
  },
  "language_info": {
   "file_extension": ".jl",
   "mimetype": "application/julia",
   "name": "julia",
   "version": "1.1.0"
  }
 },
 "nbformat": 4,
 "nbformat_minor": 2
}
